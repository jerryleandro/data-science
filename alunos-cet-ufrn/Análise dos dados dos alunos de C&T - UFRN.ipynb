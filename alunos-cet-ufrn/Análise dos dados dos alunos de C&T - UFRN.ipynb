{
 "cells": [
  {
   "cell_type": "markdown",
   "metadata": {},
   "source": [
    "# Análise de dados referentes aos alunos do curso de Ciência e Tecnologia da UFRN"
   ]
  },
  {
   "cell_type": "markdown",
   "metadata": {},
   "source": [
    "Trabalho da disciplina de Probabilidade e Estatística.  "
   ]
  },
  {
   "cell_type": "code",
   "execution_count": 3,
   "metadata": {},
   "outputs": [],
   "source": [
    "#Imports\n",
    "\n",
    "import os\n",
    "import pandas as pd\n",
    "\n",
    "import matplotlib.pyplot as plt\n",
    "import seaborn as sns\n",
    "from wordcloud import WordCloud"
   ]
  },
  {
   "cell_type": "code",
   "execution_count": 29,
   "metadata": {},
   "outputs": [],
   "source": [
    "#Atalho para o local dos dataset\n",
    "\n",
    "arquivo = \"files/\"\n",
    "\n",
    "alunos = arquivo+ \"discentes/\"\n",
    "\n",
    "cet_id = 4885"
   ]
  },
  {
   "cell_type": "code",
   "execution_count": 22,
   "metadata": {},
   "outputs": [
    {
     "name": "stdout",
     "output_type": "stream",
     "text": [
      "files/discentes/discentes-2009.csv\n",
      "files/discentes/discentes-2012.csv\n",
      "files/discentes/discentes-2010.csv\n",
      "files/discentes/discentes-2016.csv\n",
      "files/discentes/discentes-2018.csv\n",
      "files/discentes/discentes-2011.csv\n",
      "files/discentes/discentes-2017.csv\n",
      "files/discentes/discentes-2014.csv\n",
      "files/discentes/discentes-2015.csv\n",
      "files/discentes/discentes-2013.csv\n"
     ]
    }
   ],
   "source": [
    "# Tratamento dos dados\n",
    "\n",
    "# DataFrame que terá os dados dos ingressantes \n",
    "df_ingressantes_cet = pd.DataFrame()\n",
    "\n",
    "\n",
    "# Juntando todos os dados em um único arquivo\n",
    "\n",
    "for root, dirs, files in os.walk(alunos):\n",
    "    for filename in files:\n",
    "        print(root + filename)\n",
    "        # Ler arquivo\n",
    "        df_ingressantes = pd.read_csv((root + filename), sep=';')\n",
    "        # Filtra pelo curso \n",
    "        df_ingressantes_filter = df_ingressantes[df_ingressantes.nome_curso == \"CIÊNCIAS E TECNOLOGIA\"]\n",
    "        # Salva no DataFrame que declaramos no início\n",
    "        df_ingressantes_cet = pd.concat([df_ingressantes_cet, df_ingressantes_filter])"
   ]
  },
  {
   "cell_type": "code",
   "execution_count": 23,
   "metadata": {},
   "outputs": [
    {
     "data": {
      "text/html": [
       "<div>\n",
       "<style scoped>\n",
       "    .dataframe tbody tr th:only-of-type {\n",
       "        vertical-align: middle;\n",
       "    }\n",
       "\n",
       "    .dataframe tbody tr th {\n",
       "        vertical-align: top;\n",
       "    }\n",
       "\n",
       "    .dataframe thead th {\n",
       "        text-align: right;\n",
       "    }\n",
       "</style>\n",
       "<table border=\"1\" class=\"dataframe\">\n",
       "  <thead>\n",
       "    <tr style=\"text-align: right;\">\n",
       "      <th></th>\n",
       "      <th>matricula</th>\n",
       "      <th>nome_discente</th>\n",
       "      <th>ano_ingresso</th>\n",
       "      <th>periodo_ingresso</th>\n",
       "      <th>forma_ingresso</th>\n",
       "      <th>tipo_discente</th>\n",
       "      <th>status</th>\n",
       "      <th>modalidade_educacao</th>\n",
       "    </tr>\n",
       "  </thead>\n",
       "  <tbody>\n",
       "    <tr>\n",
       "      <th>7</th>\n",
       "      <td>2009030800</td>\n",
       "      <td>ABIMAEL SILVA CHIBÉRIO</td>\n",
       "      <td>2009</td>\n",
       "      <td>2</td>\n",
       "      <td>VESTIBULAR</td>\n",
       "      <td>REGULAR</td>\n",
       "      <td>CANCELADO</td>\n",
       "      <td>PRESENCIAL</td>\n",
       "    </tr>\n",
       "    <tr>\n",
       "      <th>46</th>\n",
       "      <td>2009028309</td>\n",
       "      <td>ADERALDO ALVES DA SILVA NETO</td>\n",
       "      <td>2009</td>\n",
       "      <td>2</td>\n",
       "      <td>VESTIBULAR</td>\n",
       "      <td>REGULAR</td>\n",
       "      <td>CONCLUÍDO</td>\n",
       "      <td>PRESENCIAL</td>\n",
       "    </tr>\n",
       "    <tr>\n",
       "      <th>68</th>\n",
       "      <td>2009030818</td>\n",
       "      <td>ADRIANA CARLA FERNANDES PALHARES</td>\n",
       "      <td>2009</td>\n",
       "      <td>2</td>\n",
       "      <td>VESTIBULAR</td>\n",
       "      <td>REGULAR</td>\n",
       "      <td>CANCELADO</td>\n",
       "      <td>PRESENCIAL</td>\n",
       "    </tr>\n",
       "  </tbody>\n",
       "</table>\n",
       "</div>"
      ],
      "text/plain": [
       "     matricula                     nome_discente  ano_ingresso  \\\n",
       "7   2009030800            ABIMAEL SILVA CHIBÉRIO          2009   \n",
       "46  2009028309      ADERALDO ALVES DA SILVA NETO          2009   \n",
       "68  2009030818  ADRIANA CARLA FERNANDES PALHARES          2009   \n",
       "\n",
       "    periodo_ingresso forma_ingresso tipo_discente     status  \\\n",
       "7                  2     VESTIBULAR       REGULAR  CANCELADO   \n",
       "46                 2     VESTIBULAR       REGULAR  CONCLUÍDO   \n",
       "68                 2     VESTIBULAR       REGULAR  CANCELADO   \n",
       "\n",
       "   modalidade_educacao  \n",
       "7           PRESENCIAL  \n",
       "46          PRESENCIAL  \n",
       "68          PRESENCIAL  "
      ]
     },
     "execution_count": 23,
     "metadata": {},
     "output_type": "execute_result"
    }
   ],
   "source": [
    "# Removendo as colunas desnecessárias\n",
    "df_ingressantes_cet = df_ingressantes_cet.drop(columns=['sigla_nivel_ensino', 'nivel_ensino',\n",
    "                                  'id_curso', 'nome_curso',\n",
    "                                  'id_unidade', 'nome_unidade',\n",
    "                                 'id_unidade_gestora', 'nome_unidade_gestora'])\n",
    "\n",
    "# Converte colunas que são float, mas deveriam ser int\n",
    "df_ingressantes_cet.matricula = df_ingressantes_cet.matricula.astype('int64')\n",
    "df_ingressantes_cet.periodo_ingresso = df_ingressantes_cet.periodo_ingresso.astype('int64')\n",
    "\n",
    "# Salvar os registros em um CSV\n",
    "df_ingressantes_cet.to_csv('data/discentes_cet.csv')\n",
    "\n",
    "# Exibindo os dados\n",
    "df_ingressantes_cet.head(3)"
   ]
  },
  {
   "cell_type": "code",
   "execution_count": 33,
   "metadata": {},
   "outputs": [],
   "source": [
    "# Todos os bolsistas de iniciação científica\n",
    "df_bolsistas = pd.read_csv(('files/bolsistas-de-iniciacao-cientifica.csv'), sep=';')\n",
    "\n",
    "# Filtramos para os que cursam CET\n",
    "df_bolsistas_cet = df_bolsistas[df_bolsistas.id_unidade == cet_id]\n",
    "\n",
    "# Removendo as colunas que não serão necessárias\n",
    "df_bolsistas_cet = df_bolsistas_cet.drop(columns=['Unnamed: 20',\n",
    "                                  'id_unidade', 'unidade'])\n",
    "# Exibe o inicio do DataFrame\n",
    "df_bolsistas_cet.head(3)\n",
    "\n",
    "# Salvando o arquivo\n",
    "df_bolsistas_cet.to_csv('data/bolsistas_cet.csv')\n"
   ]
  },
  {
   "cell_type": "code",
   "execution_count": 21,
   "metadata": {},
   "outputs": [],
   "source": [
    "\n"
   ]
  }
 ],
 "metadata": {
  "kernelspec": {
   "display_name": "Python 3",
   "language": "python",
   "name": "python3"
  },
  "language_info": {
   "codemirror_mode": {
    "name": "ipython",
    "version": 3
   },
   "file_extension": ".py",
   "mimetype": "text/x-python",
   "name": "python",
   "nbconvert_exporter": "python",
   "pygments_lexer": "ipython3",
   "version": "3.6.5"
  }
 },
 "nbformat": 4,
 "nbformat_minor": 2
}
