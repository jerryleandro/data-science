{
  "nbformat": 4,
  "nbformat_minor": 0,
  "metadata": {
    "colab": {
      "name": "Jerry-Prova-POO.ipynb",
      "provenance": [],
      "collapsed_sections": []
    },
    "kernelspec": {
      "name": "python3",
      "display_name": "Python 3"
    }
  },
  "cells": [
    {
      "cell_type": "markdown",
      "metadata": {
        "id": "fyuqrpOAgsra"
      },
      "source": [
        "# **PROVA PRIMEIRA UNIDADE** ALGORITMO E PROGRAMAÇÃO ORIENTADA A OBJETOS\n",
        " \n",
        " \n",
        "Aluno : Jerry Leandro Da Silva \n",
        "\n",
        "Matricula: 20170114647\n",
        "\n",
        "Portifolio: jerryleandro.github.io\n",
        "\n",
        "https://www.youtube.com/watch?v=q_J9v4QFCfg&t=4s\n",
        "\n",
        "\n",
        "\n",
        "\n",
        "\n",
        "\n"
      ]
    },
    {
      "cell_type": "markdown",
      "metadata": {
        "id": "jO77KUqMiHXk"
      },
      "source": [
        "**1)Desenvolver um programa em Python que converte de unidades de distância, por exemplo e quilômetro para metro, de milha para quilômetro, de metro para centimetros. O usuário deve informar como deseja converter [Pontos 2,5].**\n",
        "\n",
        "**Link**\n",
        "\n",
        "**parte-1**\n",
        "\n",
        "https://www.youtube.com/watch?v=CBgLqldqIAA&feature=youtu.be&ab_channel=JerryLeandro\n",
        "\n",
        "**parte-2**\n",
        "\n",
        "https://www.youtube.com/watch?v=XhvI74QjkWU&feature=youtu.be&ab_channel=JerryLeandro\n",
        "\n",
        "**parte-3**\n",
        "\n",
        "https://www.youtube.com/watch?v=2yZxU8QEDkU&feature=youtu.be&ab_channel=JerryLeandro"
      ]
    },
    {
      "cell_type": "code",
      "metadata": {
        "id": "kAkrMddViYbg",
        "outputId": "e90ed0b5-bef9-4f38-ca5c-73ad9401adb8",
        "colab": {
          "base_uri": "https://localhost:8080/",
          "height": 136
        }
      },
      "source": [
        "continua= 0\n",
        "while  not continua:\n",
        "  opc=int(input(\"Informe qual conversão vc gostaria de realizar:\\n Insira 1 para Km para m,\\n 2 para mi para Km \\n e por fim 3 para m para cm: \"))\n",
        "  if opc==1:\n",
        "    medida=float(input(\"Insira a medida em Km: \"))\n",
        "    m=medida*1000\n",
        "    print(\"A medida\",medida,\"em km foi convertido em\",m,\"metros\")\n",
        "  elif opc==2:\n",
        "    medida=float(input(\"Insira a medida em milhas: \"))\n",
        "    km=medida*1.60934\n",
        "    print(\"A medida\",medida,\"em milhas foi convertido em\",km,\"km\")\n",
        "  elif opc==3:\n",
        "    medida=float(input(\"Insira a medida em  metros: \"))\n",
        "    cm=medida*100\n",
        "    print(\"A medida\",medida,\"em metros foi convertido em\",cm,\"cm\")\n",
        "  continua=int(input(\"  0  para continuar convertendo e 1 para parar: \"))\n"
      ],
      "execution_count": null,
      "outputs": [
        {
          "output_type": "stream",
          "text": [
            "Informe qual conversão vc gostaria de realizar:\n",
            " Insira 1 para Km para m,\n",
            " 2 para mi para Km \n",
            " e por fim 3 para m para cm: 1\n",
            "Insira a medida em Km: 10\n",
            "A medida 10.0 em km foi convertido em 10000.0 metros\n",
            "  0  para continuar convertendo e 1 para parar: 1\n"
          ],
          "name": "stdout"
        }
      ]
    },
    {
      "cell_type": "markdown",
      "metadata": {
        "id": "qtA8Cwpqnx4n"
      },
      "source": [
        "**2)Desenvolver um programa em Python que informa se uma pessoa é: criança, adulto ou idoso [Pontos 2,5].**\n",
        "\n",
        "**Link**\n",
        "\n",
        "https://www.youtube.com/watch?v=U2VOKzmkC4k&t=1s&ab_channel=JerryLeandro"
      ]
    },
    {
      "cell_type": "code",
      "metadata": {
        "id": "NieG9rrsnuHf",
        "outputId": "66f952aa-7ee0-4817-e531-e55bb71a3b62",
        "colab": {
          "base_uri": "https://localhost:8080/",
          "height": 51
        }
      },
      "source": [
        "idade=int(input(\"Informe sua idade: \"))\n",
        "if idade<=12:\n",
        "  print(\"Criança\")\n",
        "elif (idade>12 and idade<18):\n",
        "  print(\"Adolescente\")\n",
        "elif (idade>=18 and idade<65):\n",
        "  print(\"Adulto\")\n",
        "elif idade>=65:\n",
        "  print(\"Idoso\")"
      ],
      "execution_count": null,
      "outputs": [
        {
          "output_type": "stream",
          "text": [
            "Informe sua idade: 24\n",
            "Adulto\n"
          ],
          "name": "stdout"
        }
      ]
    },
    {
      "cell_type": "markdown",
      "metadata": {
        "id": "ctHcaK8wrGqN"
      },
      "source": [
        "**3)Desenvolver um programa em Python que calcula a área de um quadro, de um retângulo e de um trapézio. O usuário deve informar que tipo de área ele deseja calcular [Pontos 2,5].**\n",
        "\n",
        "\n",
        "**Link**\n",
        "\n",
        "**parte 1**\n",
        "https://www.youtube.com/watch?v=29QEiV6CdM0&feature=youtu.be&ab_channel=JerryLeandro\n",
        "\n",
        "**parte 2**\n",
        "https://www.youtube.com/watch?v=beG0_hjjp78&feature=youtu.be&ab_channel=JerryLeandro"
      ]
    },
    {
      "cell_type": "code",
      "metadata": {
        "id": "h0JtbTABx9K7",
        "outputId": "2836a63d-0c8f-4aad-d55b-5ef47f94fc5a",
        "colab": {
          "base_uri": "https://localhost:8080/",
          "height": 85
        }
      },
      "source": [
        "import math\n",
        "opc=int(input(\"Qual área vc deseja calcular? Insira 1 para quadrado, 2 para retângulo e 3 para retângulo\"))\n",
        "continua= 1\n",
        "while continua:\n",
        "  if opc==1:\n",
        "    l=float(input(\"Informe o lado do quadrado\"))\n",
        "    a=math.pow(l,2)\n",
        "    print(\"Área do quadrado:\",a)\n",
        "  elif opc==2:\n",
        "    b=float(input(\"Informe a base do retângulo\"))\n",
        "    h=float(input (\"Informe a altura do retângulo\"))\n",
        "    a=b*h\n",
        "    print(\"Área do retângulo:\",a)\n",
        "  else:\n",
        "    b=float(input(\"Informe a base menor do Trapézio\"))\n",
        "    B=float(input(\"Informe a base maior do Trapézio\"))\n",
        "    h=float(input (\"Informe a altura do Trapézio\"))\n",
        "    a=((B+b)*h)/2\n",
        "    print(\"Área do retangulo é:\" , a)\n",
        "  continua=int(input(\" 1 para continuar calculando as áreas e 0 para parar: \"))"
      ],
      "execution_count": null,
      "outputs": [
        {
          "output_type": "stream",
          "text": [
            "Qual área vc deseja calcular? Insira 1 para quadrado, 2 para retângulo e 3 para retângulo1\n",
            "Informe o lado do quadrado2\n",
            "Área do quadrado: 4.0\n",
            " 1 para continuar calculando as áreas e 0 para parar: 0\n"
          ],
          "name": "stdout"
        }
      ]
    },
    {
      "cell_type": "markdown",
      "metadata": {
        "id": "pKoAiKazrQu3"
      },
      "source": [
        "**4)\n",
        "Desenvolver um programa em Python  que calcula o tempo de uma viagem para uma distância [Pontos 2,5].**\n",
        "\n",
        "**Link**\n",
        "\n",
        "https://www.youtube.com/watch?v=HCQ2kV9VrGk&t=33s&ab_channel=JerryLeandro"
      ]
    },
    {
      "cell_type": "code",
      "metadata": {
        "id": "ATsoDTTJrVFw"
      },
      "source": [
        "s = float(input(\"informe a distancia do percuso em KM\"))\n",
        "v = float(input(\"informe a velocidade media do percurso em KM/h\"))\n",
        "t = s/v\n",
        "print(\"o tempo que sua viagem vai levar e \", t ,\" horas \")"
      ],
      "execution_count": null,
      "outputs": []
    },
    {
      "cell_type": "markdown",
      "metadata": {
        "id": "1chstNfptVdt"
      },
      "source": [
        "**5)Desenvolver um programa em Python que imprime na tela quais dentre um conjunto de 10 números inteiros é o maior e o menor [10 Pontos]. Questão opcional.**\n",
        "\n",
        "**Link**\n",
        "\n",
        "https://www.youtube.com/watch?v=oEGJzTW0oCw&ab_channel=JerryLeandro"
      ]
    },
    {
      "cell_type": "code",
      "metadata": {
        "id": "xtN_Ql1ttjs-",
        "outputId": "081d6abe-5956-4d8f-b613-73ae072e50cf",
        "colab": {
          "base_uri": "https://localhost:8080/",
          "height": 85
        }
      },
      "source": [
        "num= input(\"informe uma lista de 10 numeros separados por virgula\")\n",
        "lista = num.split(\",\")\n",
        "Lista_res=[]\n",
        "\n",
        "for i in lista:\n",
        "  Lista_res.append(int(i))\n",
        "\n",
        "print(\"Maximo\", max(Lista_res))\n",
        "print(\"Minimo\", min(Lista_res))\n",
        "\n",
        "Lista_res.sort()\n",
        "\n",
        "print(\"ordenada\", Lista_res)"
      ],
      "execution_count": 2,
      "outputs": [
        {
          "output_type": "stream",
          "text": [
            "informe uma lista de 10 numeros separados por virgula8,3,2,1,4,6,9,7,10\n",
            "Maximo 10\n",
            "Minimo 1\n",
            "ordenada [1, 2, 3, 4, 6, 7, 8, 9, 10]\n"
          ],
          "name": "stdout"
        }
      ]
    }
  ]
}